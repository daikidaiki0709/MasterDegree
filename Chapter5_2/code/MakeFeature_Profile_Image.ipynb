{
 "cells": [
  {
   "cell_type": "code",
   "execution_count": 1,
   "id": "1f87e567-f024-465b-b098-db1911b07ade",
   "metadata": {},
   "outputs": [],
   "source": [
    "import os\n",
    "import time\n",
    "import warnings\n",
    "warnings.simplefilter('ignore')\n",
    "from tqdm import tqdm\n",
    "\n",
    "import numpy as np\n",
    "import pandas as pd\n",
    "import matplotlib.pyplot as plt\n",
    "from scipy.optimize import curve_fit, minimize_scalar\n",
    "from scipy import signal\n",
    "from sklearn.metrics import r2_score, mean_squared_error\n",
    "\n",
    "from FuncLaserScattering import delete_distance, smoothing_apple, skip_distance, calc_diff, image2feature\n",
    "from FuncLaserScattering import fitting"
   ]
  },
  {
   "cell_type": "markdown",
   "id": "46c4f0ad-d02d-4968-a94b-600035b65b96",
   "metadata": {},
   "source": [
    "# 散乱データの結合"
   ]
  },
  {
   "cell_type": "code",
   "execution_count": 2,
   "id": "4e36c73e-1e84-4b59-8eec-3f1b22020c7c",
   "metadata": {},
   "outputs": [],
   "source": [
    "# %%time\n",
    "# # 貯蔵期間ごとになっていたので、それぞれを結合し、一つにまとめる\n",
    "\n",
    "\n",
    "# allfile = os.listdir()\n",
    "# csv_list = [csvfile for csvfile in allfile if 'Profile' in csvfile]\n",
    "# csv_list = [csvfile for csvfile in csv_list if 'all' not in csvfile]\n",
    "# csv_list.pop(0)\n",
    "\n",
    "# # プロファイルを結合\n",
    "# profile_all = pd.DataFrame()\n",
    "# for csv_path in csv_list:\n",
    "#     df_temp = pd.read_csv(csv_path, header=0, index_col=0)\n",
    "#     profile_all = pd.concat([profile_all, df_temp],axis=1)\n",
    "\n",
    "    \n",
    "# # プロファイルを保存\n",
    "# profile_all.to_csv('Profile_all.csv')"
   ]
  },
  {
   "cell_type": "code",
   "execution_count": 5,
   "id": "d3dd72ae-9b4c-4375-8da5-ad4709e8b7bf",
   "metadata": {},
   "outputs": [
    {
     "name": "stdout",
     "output_type": "stream",
     "text": [
      "Start image analysis of 01week!!!\n",
      "Finish image analysis of 01week!!!\n",
      "Start image analysis of 02week!!!\n"
     ]
    },
    {
     "name": "stderr",
     "output_type": "stream",
     "text": [
      "\n",
      "KeyboardInterrupt\n",
      "\n"
     ]
    }
   ],
   "source": [
    "%%time\n",
    "# 新しい解析法で得られたデータで特徴量作成\n",
    "# 粉質化のみの算出\n",
    "\n",
    "for storage in ['01','02','03','04','06','07','08','09','10','11','12']:#\n",
    "\n",
    "    ##### データの読み込み #####\n",
    "    total_df = pd.read_csv(f'./../data/laser/profile/Profile_{storage}.csv')\n",
    "\n",
    "    # 距離と輝度（強度）を分割\n",
    "    distance = total_df.iloc[:,0]\n",
    "    apple_df = total_df.drop('distance (mm)',axis=1)\n",
    "\n",
    "\n",
    "    #####解析範囲外の領域を削除#####\n",
    "    distance_30mm, apple_df_30mm = delete_distance(distance, apple_df)\n",
    "\n",
    "\n",
    "    #####プロファイルの平滑化#####\n",
    "    distance_smooth, apple_smooth = smoothing_apple(distance_30mm, apple_df_30mm)\n",
    "\n",
    "\n",
    "    #####プロファイルの間引き (1mm間隔)#####\n",
    "    distance_eq, apple_smooth_eq = skip_distance(distance_smooth, apple_smooth)\n",
    "\n",
    "\n",
    "    #####変化率の取得#####\n",
    "    res = calc_diff(distance_eq, data_smoothing=apple_smooth_eq)\n",
    "\n",
    "\n",
    "    #####CurveFitting#####\n",
    "    eff_df = pd.DataFrame()\n",
    "\n",
    "    distance_eq = distance_eq[1:]\n",
    "    apple_smooth_eq = apple_smooth_eq.iloc[1:,:]\n",
    "\n",
    "    for i in range(apple_smooth_eq.shape[1]): \n",
    "\n",
    "        eff_temp = fitting(distance_eq,apple_smooth_eq.iloc[:,i])\n",
    "\n",
    "        eff_df = pd.concat([eff_df,eff_temp],axis=0)\n",
    "\n",
    "    eff_df.index = res.columns\n",
    "\n",
    "    # 結合の都合上転置する\n",
    "    eff_df = eff_df.T\n",
    "\n",
    "\n",
    "    #####画像から特徴量を抽出#####\n",
    "    print(f'Start image analysis of {storage}week!!!')\n",
    "\n",
    "    image_path = f'./../data/laser/image/week{storage}'\n",
    "    feature_img = image2feature(image_path)\n",
    "    feature_img.index = res.columns\n",
    "    \n",
    "    print(f'Finish image analysis of {storage}week!!!')\n",
    "\n",
    "\n",
    "    #####全特徴量の結合および保存#####\n",
    "    feature_df = pd.concat([eff_df, res, feature_img.T],axis=0).T\n",
    "\n",
    "\n",
    "    ##### データの保存 #####\n",
    "    # 平滑化後のプロファイルおよび特徴量を保存\n",
    "    apple_smooth_eq.to_csv(f'./../data/laser/profile/Profile_{storage}_Smooth.csv')\n",
    "    feature_df.to_csv(f'./../data/feature/feature_{storage}.csv')\n",
    "        "
   ]
  },
  {
   "cell_type": "code",
   "execution_count": 9,
   "id": "d6a5f8d0-fe17-44df-8f4d-e9a6aa8fae22",
   "metadata": {},
   "outputs": [
    {
     "name": "stdout",
     "output_type": "stream",
     "text": [
      "['feature_01.csv', 'feature_02.csv', 'feature_03.csv', 'feature_04.csv', 'feature_06.csv', 'feature_07.csv', 'feature_08.csv', 'feature_09.csv', 'feature_10.csv', 'feature_11.csv', 'feature_12.csv']\n",
      "CPU times: user 103 ms, sys: 7.29 ms, total: 111 ms\n",
      "Wall time: 111 ms\n"
     ]
    }
   ],
   "source": [
    "%%time\n",
    "# 貯蔵期間ごとになっていたので、それぞれを結合し、一つにまとめる\n",
    "\n",
    "feature_path = './../data/feature'\n",
    "allfile = os.listdir(feature_path)\n",
    "csv_list = [csvfile for csvfile in allfile if 'feature' in csvfile]\n",
    "csv_list = [csvfile for csvfile in csv_list if 'all' not in csvfile]\n",
    "csv_list = [csvfile for csvfile in csv_list if 'laser' not in csvfile]\n",
    "csv_list = [csvfile for csvfile in csv_list if 'XrayCT' not in csvfile]\n",
    "csv_list.sort()\n",
    "# csv_list.pop(0)\n",
    "\n",
    "print(csv_list)\n",
    "\n",
    "# プロファイルを結合\n",
    "feature_all = pd.DataFrame()\n",
    "for csv_path in csv_list:\n",
    "    df_temp = pd.read_csv(f'{feature_path}/{csv_path}', header=0, index_col=0)\n",
    "    feature_all = pd.concat([feature_all, df_temp],axis=0)\n",
    "\n",
    "    \n",
    "# プロファイルを保存\n",
    "feature_all.to_csv(f'{feature_path}/feature_all.csv')\n",
    "\n",
    "# laser用のfeature.csv作成\n",
    "temp_index = [x for x in feature_all.index.tolist() if '_1_1' in x or '_2_1' in x or '_3_1' in x]\n",
    "temp = feature_all.drop(temp_index,axis=0)\n",
    "temp.to_csv(f'{feature_path}/feature_laser.csv')\n",
    "\n",
    "# X線CT用のfeature.csv作成\n",
    "temp = feature_all.loc[temp_index,:]\n",
    "temp.to_csv(f'{feature_path}/feature_XrayCT.csv')"
   ]
  },
  {
   "cell_type": "code",
   "execution_count": null,
   "id": "d5197193-cc3a-4b3b-9ce7-7851a18ffb74",
   "metadata": {},
   "outputs": [],
   "source": []
  }
 ],
 "metadata": {
  "kernelspec": {
   "display_name": "Python 3 (ipykernel)",
   "language": "python",
   "name": "python3"
  },
  "language_info": {
   "codemirror_mode": {
    "name": "ipython",
    "version": 3
   },
   "file_extension": ".py",
   "mimetype": "text/x-python",
   "name": "python",
   "nbconvert_exporter": "python",
   "pygments_lexer": "ipython3",
   "version": "3.8.13"
  }
 },
 "nbformat": 4,
 "nbformat_minor": 5
}
