{
 "cells": [
  {
   "cell_type": "code",
   "execution_count": 1,
   "id": "1f87e567-f024-465b-b098-db1911b07ade",
   "metadata": {},
   "outputs": [],
   "source": [
    "import os\n",
    "import time\n",
    "import warnings\n",
    "warnings.simplefilter('ignore')\n",
    "from tqdm import tqdm\n",
    "\n",
    "import numpy as np\n",
    "import pandas as pd\n",
    "import matplotlib.pyplot as plt\n",
    "from scipy.optimize import curve_fit, minimize_scalar\n",
    "from scipy import signal\n",
    "from sklearn.metrics import r2_score, mean_squared_error\n",
    "\n",
    "from FuncLaserScattering import delete_distance, smoothing_apple, skip_distance, calc_diff, image2feature\n",
    "from FuncLaserScattering import fitting"
   ]
  },
  {
   "cell_type": "markdown",
   "id": "46c4f0ad-d02d-4968-a94b-600035b65b96",
   "metadata": {},
   "source": [
    "# 散乱データの結合"
   ]
  },
  {
   "cell_type": "code",
   "execution_count": 11,
   "id": "4e36c73e-1e84-4b59-8eec-3f1b22020c7c",
   "metadata": {},
   "outputs": [],
   "source": [
    "# %%time\n",
    "# # 貯蔵期間ごとになっていたので、それぞれを結合し、一つにまとめる\n",
    "\n",
    "\n",
    "# allfile = os.listdir()\n",
    "# csv_list = [csvfile for csvfile in allfile if 'Profile' in csvfile]\n",
    "# csv_list = [csvfile for csvfile in csv_list if 'all' not in csvfile]\n",
    "# csv_list.pop(0)\n",
    "\n",
    "# # プロファイルを結合\n",
    "# profile_all = pd.DataFrame()\n",
    "# for csv_path in csv_list:\n",
    "#     df_temp = pd.read_csv(csv_path, header=0, index_col=0)\n",
    "#     profile_all = pd.concat([profile_all, df_temp],axis=1)\n",
    "\n",
    "    \n",
    "# # プロファイルを保存\n",
    "# profile_all.to_csv('Profile_all.csv')"
   ]
  },
  {
   "cell_type": "code",
   "execution_count": 15,
   "id": "ec9567b9-f729-47aa-b7e9-168e0337ef0d",
   "metadata": {},
   "outputs": [
    {
     "data": {
      "text/plain": [
       "['feature_00.csv']"
      ]
     },
     "execution_count": 15,
     "metadata": {},
     "output_type": "execute_result"
    }
   ],
   "source": [
    "feature_path = os.listdir('./feature')\n",
    "feature_path.sort()"
   ]
  },
  {
   "cell_type": "code",
   "execution_count": 34,
   "id": "d3dd72ae-9b4c-4375-8da5-ad4709e8b7bf",
   "metadata": {},
   "outputs": [
    {
     "name": "stdout",
     "output_type": "stream",
     "text": [
      "Start image analysis!!!\n",
      "Finish image analysis!!!\n",
      "Start image analysis!!!\n",
      "Finish image analysis!!!\n",
      "Start image analysis!!!\n",
      "Finish image analysis!!!\n",
      "Start image analysis!!!\n",
      "Finish image analysis!!!\n",
      "Start image analysis!!!\n",
      "Finish image analysis!!!\n",
      "Start image analysis!!!\n",
      "Finish image analysis!!!\n",
      "Start image analysis!!!\n",
      "Finish image analysis!!!\n",
      "Start image analysis!!!\n",
      "Finish image analysis!!!\n",
      "Start image analysis!!!\n",
      "Finish image analysis!!!\n",
      "Start image analysis!!!\n",
      "Finish image analysis!!!\n",
      "Start image analysis!!!\n",
      "Finish image analysis!!!\n",
      "CPU times: user 1h 49min 41s, sys: 4min 5s, total: 1h 53min 46s\n",
      "Wall time: 1h 46min 34s\n"
     ]
    }
   ],
   "source": [
    "%%time\n",
    "# 新しい解析法で得られたデータで特徴量作成\n",
    "# 粉質化のみの算出\n",
    "\n",
    "for storage in ['01','02','03','04','06','07','08','09','10','11','12']:#\n",
    "\n",
    "    ##### データの読み込み #####\n",
    "    total_df = pd.read_csv(f'./Profile_{storage}.csv')\n",
    "\n",
    "    # 距離と輝度（強度）を分割\n",
    "    distance = total_df.iloc[:,0]\n",
    "    apple_df = total_df.drop('distance (mm)',axis=1)\n",
    "\n",
    "\n",
    "    #####解析範囲外の領域を削除#####\n",
    "    distance_30mm, apple_df_30mm = delete_distance(distance, apple_df)\n",
    "\n",
    "\n",
    "    #####プロファイルの平滑化#####\n",
    "    distance_smooth, apple_smooth = smoothing_apple(distance_30mm, apple_df_30mm)\n",
    "\n",
    "\n",
    "    #####プロファイルの間引き (1mm間隔)#####\n",
    "    distance_eq, apple_smooth_eq = skip_distance(distance_smooth, apple_smooth)\n",
    "\n",
    "\n",
    "    #####変化率の取得#####\n",
    "    res = calc_diff(distance_eq, data_smoothing=apple_smooth_eq)\n",
    "\n",
    "\n",
    "    #####CurveFitting#####\n",
    "    eff_df = pd.DataFrame()\n",
    "\n",
    "    distance_eq = distance_eq[1:]\n",
    "    apple_smooth_eq = apple_smooth_eq.iloc[1:,:]\n",
    "\n",
    "    for i in range(apple_smooth_eq.shape[1]): \n",
    "\n",
    "        eff_temp = fitting(distance_eq,apple_smooth_eq.iloc[:,i])\n",
    "\n",
    "        eff_df = pd.concat([eff_df,eff_temp],axis=0)\n",
    "\n",
    "    eff_df.index = res.columns\n",
    "\n",
    "    # 結合の都合上転置する\n",
    "    eff_df = eff_df.T\n",
    "\n",
    "\n",
    "    #####画像から特徴量を抽出#####\n",
    "    print(f'Start image analysis of {storage}week!!!')\n",
    "\n",
    "    image_path = f'./HDR/week{storage}'\n",
    "    feature_img = image2feature(image_path)\n",
    "    feature_img.index = res.columns\n",
    "    \n",
    "    print(f'Finish image analysis of {storage}week!!!')\n",
    "\n",
    "\n",
    "    #####全特徴量の結合および保存#####\n",
    "    feature_df = pd.concat([eff_df, res, feature_img.T],axis=0).T\n",
    "\n",
    "\n",
    "    ##### データの保存 #####\n",
    "    # 平滑化後のプロファイルおよび特徴量を保存\n",
    "    apple_smooth_eq.to_csv(f'./smoothing/Smooth_{storage}.csv')\n",
    "    feature_df.to_csv(f'./feature/feature_{storage}.csv')\n",
    "        "
   ]
  },
  {
   "cell_type": "code",
   "execution_count": 66,
   "id": "d6a5f8d0-fe17-44df-8f4d-e9a6aa8fae22",
   "metadata": {},
   "outputs": [
    {
     "name": "stdout",
     "output_type": "stream",
     "text": [
      "['feature_01.csv', 'feature_02.csv', 'feature_03.csv', 'feature_04.csv', 'feature_06.csv', 'feature_07.csv', 'feature_08.csv', 'feature_09.csv', 'feature_10.csv', 'feature_11.csv', 'feature_12.csv']\n",
      "CPU times: user 100 ms, sys: 9.16 ms, total: 110 ms\n",
      "Wall time: 109 ms\n"
     ]
    }
   ],
   "source": [
    "%%time\n",
    "# 貯蔵期間ごとになっていたので、それぞれを結合し、一つにまとめる\n",
    "\n",
    "feature_path = './feature'\n",
    "allfile = os.listdir(feature_path)\n",
    "csv_list = [csvfile for csvfile in allfile if 'feature' in csvfile]\n",
    "csv_list = [csvfile for csvfile in csv_list if 'all' not in csvfile]\n",
    "csv_list = [csvfile for csvfile in csv_list if 'laser' not in csvfile]\n",
    "csv_list = [csvfile for csvfile in csv_list if 'XrayCT' not in csvfile]\n",
    "csv_list.sort()\n",
    "csv_list.pop(0)\n",
    "\n",
    "print(csv_list)\n",
    "\n",
    "# プロファイルを結合\n",
    "feature_all = pd.DataFrame()\n",
    "for csv_path in csv_list:\n",
    "    df_temp = pd.read_csv(f'{feature_path}/{csv_path}', header=0, index_col=0)\n",
    "    feature_all = pd.concat([feature_all, df_temp],axis=0)\n",
    "\n",
    "    \n",
    "# プロファイルを保存\n",
    "feature_all.to_csv(f'{feature_path}/feature_all.csv')\n",
    "\n",
    "# laser用のfeature.csv作成\n",
    "temp_index = [x for x in feature_all.index.tolist() if '_1_1' in x or '_2_1' in x or '_3_1' in x]\n",
    "temp = feature_all.drop(temp_index,axis=0)\n",
    "temp.to_csv('./feature/feature_laser.csv')\n",
    "\n",
    "# X線CT用のfeature.csv作成\n",
    "temp = feature_all.loc[temp_index,:]\n",
    "temp.to_csv('./feature/feature_XrayCT.csv')"
   ]
  },
  {
   "cell_type": "markdown",
   "id": "6d152314-6263-4eba-a340-6f41f4007b71",
   "metadata": {},
   "source": [
    "# メモ"
   ]
  },
  {
   "cell_type": "markdown",
   "id": "f827f1a1-afcc-4a51-88a6-0ffb4a826f76",
   "metadata": {},
   "source": [
    "# 散乱のデータの読み込み"
   ]
  },
  {
   "cell_type": "code",
   "execution_count": 2,
   "id": "26d99861-7b2c-4342-af52-038e24c60b54",
   "metadata": {},
   "outputs": [
    {
     "name": "stdout",
     "output_type": "stream",
     "text": [
      "Wall time: 20.9 s\n"
     ]
    }
   ],
   "source": [
    "%%time\n",
    "# import系\n",
    "import numpy as np\n",
    "import pandas as pd\n",
    "from sklearn.metrics import r2_score,  mean_squared_error\n",
    "from sklearn.preprocessing import StandardScaler\n",
    "from sklearn.linear_model import LinearRegression\n",
    "from sklearn.model_selection import train_test_split, KFold\n",
    "import matplotlib.pyplot as plt\n",
    "import seaborn as sns\n",
    "import scipy.stats as stats\n",
    "from scipy.optimize import curve_fit\n",
    "from scipy import signal\n",
    "import statsmodels.formula.api as smf\n",
    "import statsmodels.api as sm\n",
    "\n",
    "\n",
    "# 散乱データ、硬さデータimport, distance除く\n",
    "total_df = pd.read_csv('Profile_all.csv')\n",
    "\n",
    "# # 距離の部分のみを削除\n",
    "distance = total_df.iloc[:,0]\n",
    "apple_df = total_df.drop('distance (mm)',axis=1)"
   ]
  },
  {
   "cell_type": "markdown",
   "id": "634b5ecc-e543-45ec-b9df-16d3fa3a2395",
   "metadata": {},
   "source": [
    "# 1mm未満を削除し、最大30 mmまでのdataframeを作成"
   ]
  },
  {
   "cell_type": "code",
   "execution_count": null,
   "id": "7fe76b44-019e-4b7e-897e-57d33062f12d",
   "metadata": {},
   "outputs": [
    {
     "name": "stdout",
     "output_type": "stream",
     "text": [
      "Wall time: 645 ms\n"
     ]
    }
   ],
   "source": [
    "%%time\n",
    "\n",
    "# 1 mm未満を削除する処理\n",
    "distance = distance[distance > 1]\n",
    "apple_df = apple_df.iloc[distance.index,:]\n",
    "distance.index = [i for i in range(distance.shape[0])]\n",
    "apple_df.index = [i for i in range(apple_df.shape[0])]\n",
    "\n",
    "\n",
    "# 最大30 mmとした処理\n",
    "distance_30mm = distance[distance <= 31.2]\n",
    "apple_df_30mm = apple_df.iloc[distance_30mm.index,:]\n"
   ]
  },
  {
   "cell_type": "markdown",
   "id": "da2639bf-5dcf-4cdd-afe1-fc22cd83fe89",
   "metadata": {},
   "source": [
    "# 平滑化、fittingおよび変化率 を行う関数を作成"
   ]
  },
  {
   "cell_type": "code",
   "execution_count": 4,
   "id": "16ea2702-ae17-4495-b708-72b03a3e9e5d",
   "metadata": {},
   "outputs": [],
   "source": [
    "# 平滑化\n",
    "# fitting\n",
    "# 変化率\n",
    "# の順で行う関数作成\n",
    "\n",
    "def smooth_fitting_diff_func(distance, data):\n",
    "    '''\n",
    "    返り値：平滑化の結果、fitting係数と変化率のdataframe\n",
    "    '''\n",
    "\n",
    "    # fittingする関数を定義\n",
    "    def func_poly(x,a,b):\n",
    "        y = -2 * np.log10(x) - a*x + b\n",
    "        return y\n",
    "    \n",
    "    # 空の集合\n",
    "    sg_total = pd.DataFrame()\n",
    "    eff_df = pd.DataFrame()\n",
    "    feature_df = pd.DataFrame()\n",
    "    diff_df =  pd.DataFrame()\n",
    "    # 同時に行いそれぞれに格納\n",
    "    for i in range(data.shape[1]):\n",
    "        \n",
    "        # 平滑化処理\n",
    "        data_temp = data.iloc[:,i].fillna(method='ffill')\n",
    "        sg_i = pd.Series(signal.savgol_filter(data_temp,201,1))\n",
    "        sg_i = sg_i.replace(-np.inf,np.nan)\n",
    "        sg_i = sg_i.replace(np.inf,np.nan)\n",
    "        sg_i = sg_i.dropna()\n",
    "        distance_i = distance[sg_i.index]\n",
    "        #平滑化処理の結果を格納\n",
    "        sg_total = pd.concat([sg_total,sg_i],axis=1)\n",
    "        \n",
    "        \n",
    "        # fitting処理\n",
    "        eff,cov = curve_fit(func_poly,distance_i,sg_i,maxfev=20000)\n",
    "        eff_i = pd.DataFrame(eff,\n",
    "                             columns = [data.columns[i]],\n",
    "                             index = ['a','b'])\n",
    "        # fitting係数を格納\n",
    "        eff_df = pd.concat([eff_df,eff_i],axis=1)\n",
    "        \n",
    "        \n",
    "        # 変化率処理\n",
    "        # 1 mmごとの強度とindexを取得し、格納\n",
    "        index_list = []\n",
    "        intensity_list = []\n",
    "        for j in range(30):\n",
    "            index_temp  = distance_i[distance_i < 1+(j+1)].index[-1]\n",
    "            intensity_temp = sg_i[index_temp]\n",
    "            index_list.append(index_temp)\n",
    "            intensity_list.append(intensity_temp)\n",
    "        # 各位置における変化率を算出し、格納\n",
    "        diff_list = [intensity_list[j+1] - intensity_list[j] for j in range(len(intensity_list)-1)]\n",
    "        diff_df_temp = pd.DataFrame(diff_list,\n",
    "                               columns = [data.columns[i]],\n",
    "                               index = [f'diff_{j+2}' for j in range(len(diff_list))])\n",
    "        \n",
    "        diff_df = pd.concat([diff_df, diff_df_temp],axis=1)\n",
    "        \n",
    "    # 変化率と係数を統一\n",
    "    feature_df = pd.concat([eff_df, diff_df],axis=0)\n",
    "    \n",
    "    # 平滑化後のプロファイルを整理\n",
    "    sg_total.columns = data.columns\n",
    "\n",
    "   \n",
    "    \n",
    "    return sg_total, feature_df"
   ]
  },
  {
   "cell_type": "markdown",
   "id": "301cf4bf-0e73-4b97-b06e-3c7665b96369",
   "metadata": {},
   "source": [
    "# 関数を当てはめ、特徴量作成し保存"
   ]
  },
  {
   "cell_type": "code",
   "execution_count": 5,
   "id": "5ab9588d-2a0b-4e7a-a598-c2f40de54278",
   "metadata": {},
   "outputs": [
    {
     "name": "stdout",
     "output_type": "stream",
     "text": [
      "Wall time: 1min 47s\n"
     ]
    }
   ],
   "source": [
    "%%time\n",
    "results = smooth_fitting_diff_func(distance_30mm,apple_df_30mm)\n",
    "profile_smooth = results[0]\n",
    "profile_smooth = pd.concat([distance_30mm, profile_smooth],axis=1)\n",
    "feature_df = results[1].T\n",
    "\n",
    "profile_smooth.to_csv('Smooth_profile.csv')\n",
    "feature_df.to_csv('feature.csv')\n",
    "\n",
    "# laser用のfeature.csv作成\n",
    "temp_index = [x for x in feature_df.index.tolist() if '_1_1' in x or '_2_1' in x or '_3_1' in x]\n",
    "temp = feature_df.drop(temp_index,axis=0)\n",
    "temp.to_csv('feature_laser.csv')\n",
    "\n",
    "# X線CT用のfeature.csv作成\n",
    "temp = feature_df.loc[temp_index,:]\n",
    "temp.to_csv('feature_XrayCT.csv')"
   ]
  },
  {
   "cell_type": "code",
   "execution_count": 16,
   "id": "f4756aac-4476-4780-a9d0-1c930eb6a2fb",
   "metadata": {},
   "outputs": [
    {
     "data": {
      "text/plain": [
       "Text(0.5, 0, '日本語 \\n www.')"
      ]
     },
     "execution_count": 16,
     "metadata": {},
     "output_type": "execute_result"
    },
    {
     "data": {
      "image/png": "[encoded data removed]",
      "text/plain": [
       "<Figure size 432x288 with 1 Axes>"
      ]
     },
     "metadata": {
      "needs_background": "light"
     },
     "output_type": "display_data"
    }
   ],
   "source": [
    "plt.rcParams['font.family'] = \"MS Gothic\"\n",
    "plt.plot([0,1],[0,1])\n",
    "plt.xlabel('日本語 \\n www.')"
   ]
  },
  {
   "cell_type": "code",
   "execution_count": null,
   "id": "ebe2a365-c4bb-48ae-a3cf-03eda0586382",
   "metadata": {},
   "outputs": [],
   "source": []
  }
 ],
 "metadata": {
  "kernelspec": {
   "display_name": "Python 3 (ipykernel)",
   "language": "python",
   "name": "python3"
  },
  "language_info": {
   "codemirror_mode": {
    "name": "ipython",
    "version": 3
   },
   "file_extension": ".py",
   "mimetype": "text/x-python",
   "name": "python",
   "nbconvert_exporter": "python",
   "pygments_lexer": "ipython3",
   "version": "3.8.13"
  }
 },
 "nbformat": 4,
 "nbformat_minor": 5
}
