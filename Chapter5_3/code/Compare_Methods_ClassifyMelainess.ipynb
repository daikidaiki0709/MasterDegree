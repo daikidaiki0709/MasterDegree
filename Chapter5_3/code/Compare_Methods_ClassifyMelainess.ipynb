{
 "cells": [
  {
   "cell_type": "code",
   "execution_count": 1,
   "id": "a1506aa8-1449-4142-bc4a-0706f2e9ee5d",
   "metadata": {},
   "outputs": [],
   "source": [
    "import time\n",
    "# import warnings\n",
    "# warnings.simplefilter('ignore')\n",
    "from tqdm import tqdm\n",
    "\n",
    "import numpy as np\n",
    "import pandas as pd\n",
    "import matplotlib.pyplot as plt\n",
    "from sklearn.preprocessing import StandardScaler\n",
    "from sklearn.model_selection import train_test_split, GridSearchCV, KFold\n",
    "from sklearn.metrics import confusion_matrix, accuracy_score, f1_score\n",
    "from imblearn.over_sampling import SMOTE\n",
    "\n",
    "from sklearn.linear_model import LogisticRegression, LogisticRegressionCV\n",
    "from sklearn.cross_decomposition import PLSRegression\n",
    "from sklearn.svm import SVC\n",
    "from sklearn.neural_network import MLPClassifier\n",
    "\n",
    "from estimation_model import arrange_feature, scale, select_feature, divide_mealiness, optimize_hyperparameter, calc_metrics\n"
   ]
  },
  {
   "cell_type": "code",
   "execution_count": 3,
   "id": "0104e66c-51f0-4d24-a693-a1fb0dc17efc",
   "metadata": {},
   "outputs": [],
   "source": [
    "# 分析データに関する設定\n",
    "SEED = 202120971 #これを基本的に使用\n",
    "MEALINESS = 15\n",
    "# MEALINESS = 20\n",
    "# MEALINESS = 25\n",
    "\n",
    "# SMOTEの近傍数\n",
    "N = 3"
   ]
  },
  {
   "cell_type": "markdown",
   "id": "18391251-6827-4d01-be8e-35c49dc10343",
   "metadata": {},
   "source": [
    "## 特徴量算出"
   ]
  },
  {
   "cell_type": "code",
   "execution_count": 4,
   "id": "6b340be5-69a4-4f4e-a706-cea192242742",
   "metadata": {},
   "outputs": [],
   "source": [
    "# 特徴量の整理\n",
    "feature_conv, target_df = arrange_feature(METHOD=0)\n",
    "feature_new, target_df = arrange_feature(METHOD=1)"
   ]
  },
  {
   "cell_type": "code",
   "execution_count": null,
   "id": "293798f1-30a8-458d-a922-033e0aa95824",
   "metadata": {},
   "outputs": [],
   "source": []
  },
  {
   "cell_type": "code",
   "execution_count": 5,
   "id": "dd3d22b0-cbce-4280-83ae-ecaf41c05589",
   "metadata": {},
   "outputs": [
    {
     "name": "stderr",
     "output_type": "stream",
     "text": [
      "/Users/daiki/miniforge3/envs/tsukuba/lib/python3.8/site-packages/imblearn/over_sampling/_smote/base.py:336: FutureWarning: The parameter `n_jobs` has been deprecated in 0.10 and will be removed in 0.12. You can pass an nearest neighbors estimator where `n_jobs` is already set instead.\n",
      "  warnings.warn(\n",
      "/Users/daiki/miniforge3/envs/tsukuba/lib/python3.8/site-packages/sklearn/utils/validation.py:1111: DataConversionWarning: A column-vector y was passed when a 1d array was expected. Please change the shape of y to (n_samples, ), for example using ravel().\n",
      "  y = column_or_1d(y, warn=True)\n",
      "/Users/daiki/miniforge3/envs/tsukuba/lib/python3.8/site-packages/sklearn/neural_network/_multilayer_perceptron.py:1118: DataConversionWarning: A column-vector y was passed when a 1d array was expected. Please change the shape of y to (n_samples, ), for example using ravel().\n",
      "  y = column_or_1d(y, warn=True)\n",
      "/Users/daiki/miniforge3/envs/tsukuba/lib/python3.8/site-packages/imblearn/over_sampling/_smote/base.py:336: FutureWarning: The parameter `n_jobs` has been deprecated in 0.10 and will be removed in 0.12. You can pass an nearest neighbors estimator where `n_jobs` is already set instead.\n",
      "  warnings.warn(\n",
      "/Users/daiki/miniforge3/envs/tsukuba/lib/python3.8/site-packages/sklearn/utils/validation.py:1111: DataConversionWarning: A column-vector y was passed when a 1d array was expected. Please change the shape of y to (n_samples, ), for example using ravel().\n",
      "  y = column_or_1d(y, warn=True)\n",
      "/Users/daiki/miniforge3/envs/tsukuba/lib/python3.8/site-packages/sklearn/neural_network/_multilayer_perceptron.py:1118: DataConversionWarning: A column-vector y was passed when a 1d array was expected. Please change the shape of y to (n_samples, ), for example using ravel().\n",
      "  y = column_or_1d(y, warn=True)\n",
      "/Users/daiki/miniforge3/envs/tsukuba/lib/python3.8/site-packages/imblearn/over_sampling/_smote/base.py:336: FutureWarning: The parameter `n_jobs` has been deprecated in 0.10 and will be removed in 0.12. You can pass an nearest neighbors estimator where `n_jobs` is already set instead.\n",
      "  warnings.warn(\n",
      "/Users/daiki/miniforge3/envs/tsukuba/lib/python3.8/site-packages/sklearn/utils/validation.py:1111: DataConversionWarning: A column-vector y was passed when a 1d array was expected. Please change the shape of y to (n_samples, ), for example using ravel().\n",
      "  y = column_or_1d(y, warn=True)\n",
      "/Users/daiki/miniforge3/envs/tsukuba/lib/python3.8/site-packages/sklearn/neural_network/_multilayer_perceptron.py:1118: DataConversionWarning: A column-vector y was passed when a 1d array was expected. Please change the shape of y to (n_samples, ), for example using ravel().\n",
      "  y = column_or_1d(y, warn=True)\n",
      "/Users/daiki/miniforge3/envs/tsukuba/lib/python3.8/site-packages/sklearn/neural_network/_multilayer_perceptron.py:702: ConvergenceWarning: Stochastic Optimizer: Maximum iterations (200) reached and the optimization hasn't converged yet.\n",
      "  warnings.warn(\n",
      "/Users/daiki/miniforge3/envs/tsukuba/lib/python3.8/site-packages/imblearn/over_sampling/_smote/base.py:336: FutureWarning: The parameter `n_jobs` has been deprecated in 0.10 and will be removed in 0.12. You can pass an nearest neighbors estimator where `n_jobs` is already set instead.\n",
      "  warnings.warn(\n",
      "/Users/daiki/miniforge3/envs/tsukuba/lib/python3.8/site-packages/sklearn/utils/validation.py:1111: DataConversionWarning: A column-vector y was passed when a 1d array was expected. Please change the shape of y to (n_samples, ), for example using ravel().\n",
      "  y = column_or_1d(y, warn=True)\n",
      "/Users/daiki/miniforge3/envs/tsukuba/lib/python3.8/site-packages/sklearn/neural_network/_multilayer_perceptron.py:1118: DataConversionWarning: A column-vector y was passed when a 1d array was expected. Please change the shape of y to (n_samples, ), for example using ravel().\n",
      "  y = column_or_1d(y, warn=True)\n",
      "/Users/daiki/miniforge3/envs/tsukuba/lib/python3.8/site-packages/imblearn/over_sampling/_smote/base.py:336: FutureWarning: The parameter `n_jobs` has been deprecated in 0.10 and will be removed in 0.12. You can pass an nearest neighbors estimator where `n_jobs` is already set instead.\n",
      "  warnings.warn(\n",
      "/Users/daiki/miniforge3/envs/tsukuba/lib/python3.8/site-packages/sklearn/utils/validation.py:1111: DataConversionWarning: A column-vector y was passed when a 1d array was expected. Please change the shape of y to (n_samples, ), for example using ravel().\n",
      "  y = column_or_1d(y, warn=True)\n",
      "/Users/daiki/miniforge3/envs/tsukuba/lib/python3.8/site-packages/sklearn/neural_network/_multilayer_perceptron.py:1118: DataConversionWarning: A column-vector y was passed when a 1d array was expected. Please change the shape of y to (n_samples, ), for example using ravel().\n",
      "  y = column_or_1d(y, warn=True)\n",
      "/Users/daiki/miniforge3/envs/tsukuba/lib/python3.8/site-packages/imblearn/over_sampling/_smote/base.py:336: FutureWarning: The parameter `n_jobs` has been deprecated in 0.10 and will be removed in 0.12. You can pass an nearest neighbors estimator where `n_jobs` is already set instead.\n",
      "  warnings.warn(\n",
      "/Users/daiki/miniforge3/envs/tsukuba/lib/python3.8/site-packages/sklearn/utils/validation.py:1111: DataConversionWarning: A column-vector y was passed when a 1d array was expected. Please change the shape of y to (n_samples, ), for example using ravel().\n",
      "  y = column_or_1d(y, warn=True)\n",
      "/Users/daiki/miniforge3/envs/tsukuba/lib/python3.8/site-packages/sklearn/neural_network/_multilayer_perceptron.py:1118: DataConversionWarning: A column-vector y was passed when a 1d array was expected. Please change the shape of y to (n_samples, ), for example using ravel().\n",
      "  y = column_or_1d(y, warn=True)\n",
      "/Users/daiki/miniforge3/envs/tsukuba/lib/python3.8/site-packages/imblearn/over_sampling/_smote/base.py:336: FutureWarning: The parameter `n_jobs` has been deprecated in 0.10 and will be removed in 0.12. You can pass an nearest neighbors estimator where `n_jobs` is already set instead.\n",
      "  warnings.warn(\n",
      "/Users/daiki/miniforge3/envs/tsukuba/lib/python3.8/site-packages/sklearn/utils/validation.py:1111: DataConversionWarning: A column-vector y was passed when a 1d array was expected. Please change the shape of y to (n_samples, ), for example using ravel().\n",
      "  y = column_or_1d(y, warn=True)\n",
      "/Users/daiki/miniforge3/envs/tsukuba/lib/python3.8/site-packages/sklearn/neural_network/_multilayer_perceptron.py:1118: DataConversionWarning: A column-vector y was passed when a 1d array was expected. Please change the shape of y to (n_samples, ), for example using ravel().\n",
      "  y = column_or_1d(y, warn=True)\n",
      "/Users/daiki/miniforge3/envs/tsukuba/lib/python3.8/site-packages/imblearn/over_sampling/_smote/base.py:336: FutureWarning: The parameter `n_jobs` has been deprecated in 0.10 and will be removed in 0.12. You can pass an nearest neighbors estimator where `n_jobs` is already set instead.\n",
      "  warnings.warn(\n",
      "/Users/daiki/miniforge3/envs/tsukuba/lib/python3.8/site-packages/sklearn/utils/validation.py:1111: DataConversionWarning: A column-vector y was passed when a 1d array was expected. Please change the shape of y to (n_samples, ), for example using ravel().\n",
      "  y = column_or_1d(y, warn=True)\n",
      "/Users/daiki/miniforge3/envs/tsukuba/lib/python3.8/site-packages/sklearn/neural_network/_multilayer_perceptron.py:1118: DataConversionWarning: A column-vector y was passed when a 1d array was expected. Please change the shape of y to (n_samples, ), for example using ravel().\n",
      "  y = column_or_1d(y, warn=True)\n",
      "/Users/daiki/miniforge3/envs/tsukuba/lib/python3.8/site-packages/imblearn/over_sampling/_smote/base.py:336: FutureWarning: The parameter `n_jobs` has been deprecated in 0.10 and will be removed in 0.12. You can pass an nearest neighbors estimator where `n_jobs` is already set instead.\n",
      "  warnings.warn(\n",
      "/Users/daiki/miniforge3/envs/tsukuba/lib/python3.8/site-packages/sklearn/utils/validation.py:1111: DataConversionWarning: A column-vector y was passed when a 1d array was expected. Please change the shape of y to (n_samples, ), for example using ravel().\n",
      "  y = column_or_1d(y, warn=True)\n",
      "/Users/daiki/miniforge3/envs/tsukuba/lib/python3.8/site-packages/sklearn/neural_network/_multilayer_perceptron.py:1118: DataConversionWarning: A column-vector y was passed when a 1d array was expected. Please change the shape of y to (n_samples, ), for example using ravel().\n",
      "  y = column_or_1d(y, warn=True)\n",
      "/Users/daiki/miniforge3/envs/tsukuba/lib/python3.8/site-packages/imblearn/over_sampling/_smote/base.py:336: FutureWarning: The parameter `n_jobs` has been deprecated in 0.10 and will be removed in 0.12. You can pass an nearest neighbors estimator where `n_jobs` is already set instead.\n",
      "  warnings.warn(\n",
      "/Users/daiki/miniforge3/envs/tsukuba/lib/python3.8/site-packages/sklearn/utils/validation.py:1111: DataConversionWarning: A column-vector y was passed when a 1d array was expected. Please change the shape of y to (n_samples, ), for example using ravel().\n",
      "  y = column_or_1d(y, warn=True)\n",
      "/Users/daiki/miniforge3/envs/tsukuba/lib/python3.8/site-packages/sklearn/neural_network/_multilayer_perceptron.py:1118: DataConversionWarning: A column-vector y was passed when a 1d array was expected. Please change the shape of y to (n_samples, ), for example using ravel().\n",
      "  y = column_or_1d(y, warn=True)\n",
      "/Users/daiki/miniforge3/envs/tsukuba/lib/python3.8/site-packages/imblearn/over_sampling/_smote/base.py:336: FutureWarning: The parameter `n_jobs` has been deprecated in 0.10 and will be removed in 0.12. You can pass an nearest neighbors estimator where `n_jobs` is already set instead.\n",
      "  warnings.warn(\n",
      "/Users/daiki/miniforge3/envs/tsukuba/lib/python3.8/site-packages/sklearn/utils/validation.py:1111: DataConversionWarning: A column-vector y was passed when a 1d array was expected. Please change the shape of y to (n_samples, ), for example using ravel().\n",
      "  y = column_or_1d(y, warn=True)\n",
      "/Users/daiki/miniforge3/envs/tsukuba/lib/python3.8/site-packages/sklearn/neural_network/_multilayer_perceptron.py:1118: DataConversionWarning: A column-vector y was passed when a 1d array was expected. Please change the shape of y to (n_samples, ), for example using ravel().\n",
      "  y = column_or_1d(y, warn=True)\n",
      "/Users/daiki/miniforge3/envs/tsukuba/lib/python3.8/site-packages/imblearn/over_sampling/_smote/base.py:336: FutureWarning: The parameter `n_jobs` has been deprecated in 0.10 and will be removed in 0.12. You can pass an nearest neighbors estimator where `n_jobs` is already set instead.\n",
      "  warnings.warn(\n",
      "/Users/daiki/miniforge3/envs/tsukuba/lib/python3.8/site-packages/sklearn/utils/validation.py:1111: DataConversionWarning: A column-vector y was passed when a 1d array was expected. Please change the shape of y to (n_samples, ), for example using ravel().\n",
      "  y = column_or_1d(y, warn=True)\n",
      "/Users/daiki/miniforge3/envs/tsukuba/lib/python3.8/site-packages/sklearn/neural_network/_multilayer_perceptron.py:1118: DataConversionWarning: A column-vector y was passed when a 1d array was expected. Please change the shape of y to (n_samples, ), for example using ravel().\n",
      "  y = column_or_1d(y, warn=True)\n",
      "/Users/daiki/miniforge3/envs/tsukuba/lib/python3.8/site-packages/imblearn/over_sampling/_smote/base.py:336: FutureWarning: The parameter `n_jobs` has been deprecated in 0.10 and will be removed in 0.12. You can pass an nearest neighbors estimator where `n_jobs` is already set instead.\n",
      "  warnings.warn(\n",
      "/Users/daiki/miniforge3/envs/tsukuba/lib/python3.8/site-packages/sklearn/utils/validation.py:1111: DataConversionWarning: A column-vector y was passed when a 1d array was expected. Please change the shape of y to (n_samples, ), for example using ravel().\n",
      "  y = column_or_1d(y, warn=True)\n",
      "/Users/daiki/miniforge3/envs/tsukuba/lib/python3.8/site-packages/sklearn/neural_network/_multilayer_perceptron.py:1118: DataConversionWarning: A column-vector y was passed when a 1d array was expected. Please change the shape of y to (n_samples, ), for example using ravel().\n",
      "  y = column_or_1d(y, warn=True)\n",
      "/Users/daiki/miniforge3/envs/tsukuba/lib/python3.8/site-packages/imblearn/over_sampling/_smote/base.py:336: FutureWarning: The parameter `n_jobs` has been deprecated in 0.10 and will be removed in 0.12. You can pass an nearest neighbors estimator where `n_jobs` is already set instead.\n",
      "  warnings.warn(\n",
      "/Users/daiki/miniforge3/envs/tsukuba/lib/python3.8/site-packages/sklearn/utils/validation.py:1111: DataConversionWarning: A column-vector y was passed when a 1d array was expected. Please change the shape of y to (n_samples, ), for example using ravel().\n",
      "  y = column_or_1d(y, warn=True)\n",
      "/Users/daiki/miniforge3/envs/tsukuba/lib/python3.8/site-packages/sklearn/neural_network/_multilayer_perceptron.py:1118: DataConversionWarning: A column-vector y was passed when a 1d array was expected. Please change the shape of y to (n_samples, ), for example using ravel().\n",
      "  y = column_or_1d(y, warn=True)\n",
      "/Users/daiki/miniforge3/envs/tsukuba/lib/python3.8/site-packages/imblearn/over_sampling/_smote/base.py:336: FutureWarning: The parameter `n_jobs` has been deprecated in 0.10 and will be removed in 0.12. You can pass an nearest neighbors estimator where `n_jobs` is already set instead.\n",
      "  warnings.warn(\n",
      "/Users/daiki/miniforge3/envs/tsukuba/lib/python3.8/site-packages/sklearn/utils/validation.py:1111: DataConversionWarning: A column-vector y was passed when a 1d array was expected. Please change the shape of y to (n_samples, ), for example using ravel().\n",
      "  y = column_or_1d(y, warn=True)\n",
      "/Users/daiki/miniforge3/envs/tsukuba/lib/python3.8/site-packages/sklearn/neural_network/_multilayer_perceptron.py:1118: DataConversionWarning: A column-vector y was passed when a 1d array was expected. Please change the shape of y to (n_samples, ), for example using ravel().\n",
      "  y = column_or_1d(y, warn=True)\n",
      "/Users/daiki/miniforge3/envs/tsukuba/lib/python3.8/site-packages/imblearn/over_sampling/_smote/base.py:336: FutureWarning: The parameter `n_jobs` has been deprecated in 0.10 and will be removed in 0.12. You can pass an nearest neighbors estimator where `n_jobs` is already set instead.\n",
      "  warnings.warn(\n",
      "/Users/daiki/miniforge3/envs/tsukuba/lib/python3.8/site-packages/sklearn/utils/validation.py:1111: DataConversionWarning: A column-vector y was passed when a 1d array was expected. Please change the shape of y to (n_samples, ), for example using ravel().\n",
      "  y = column_or_1d(y, warn=True)\n",
      "/Users/daiki/miniforge3/envs/tsukuba/lib/python3.8/site-packages/sklearn/neural_network/_multilayer_perceptron.py:1118: DataConversionWarning: A column-vector y was passed when a 1d array was expected. Please change the shape of y to (n_samples, ), for example using ravel().\n",
      "  y = column_or_1d(y, warn=True)\n",
      "/Users/daiki/miniforge3/envs/tsukuba/lib/python3.8/site-packages/imblearn/over_sampling/_smote/base.py:336: FutureWarning: The parameter `n_jobs` has been deprecated in 0.10 and will be removed in 0.12. You can pass an nearest neighbors estimator where `n_jobs` is already set instead.\n",
      "  warnings.warn(\n",
      "/Users/daiki/miniforge3/envs/tsukuba/lib/python3.8/site-packages/sklearn/utils/validation.py:1111: DataConversionWarning: A column-vector y was passed when a 1d array was expected. Please change the shape of y to (n_samples, ), for example using ravel().\n",
      "  y = column_or_1d(y, warn=True)\n",
      "/Users/daiki/miniforge3/envs/tsukuba/lib/python3.8/site-packages/sklearn/neural_network/_multilayer_perceptron.py:1118: DataConversionWarning: A column-vector y was passed when a 1d array was expected. Please change the shape of y to (n_samples, ), for example using ravel().\n",
      "  y = column_or_1d(y, warn=True)\n",
      "/Users/daiki/miniforge3/envs/tsukuba/lib/python3.8/site-packages/imblearn/over_sampling/_smote/base.py:336: FutureWarning: The parameter `n_jobs` has been deprecated in 0.10 and will be removed in 0.12. You can pass an nearest neighbors estimator where `n_jobs` is already set instead.\n",
      "  warnings.warn(\n",
      "/Users/daiki/miniforge3/envs/tsukuba/lib/python3.8/site-packages/sklearn/utils/validation.py:1111: DataConversionWarning: A column-vector y was passed when a 1d array was expected. Please change the shape of y to (n_samples, ), for example using ravel().\n",
      "  y = column_or_1d(y, warn=True)\n",
      "/Users/daiki/miniforge3/envs/tsukuba/lib/python3.8/site-packages/sklearn/neural_network/_multilayer_perceptron.py:1118: DataConversionWarning: A column-vector y was passed when a 1d array was expected. Please change the shape of y to (n_samples, ), for example using ravel().\n",
      "  y = column_or_1d(y, warn=True)\n",
      "/Users/daiki/miniforge3/envs/tsukuba/lib/python3.8/site-packages/imblearn/over_sampling/_smote/base.py:336: FutureWarning: The parameter `n_jobs` has been deprecated in 0.10 and will be removed in 0.12. You can pass an nearest neighbors estimator where `n_jobs` is already set instead.\n",
      "  warnings.warn(\n",
      "/Users/daiki/miniforge3/envs/tsukuba/lib/python3.8/site-packages/sklearn/utils/validation.py:1111: DataConversionWarning: A column-vector y was passed when a 1d array was expected. Please change the shape of y to (n_samples, ), for example using ravel().\n",
      "  y = column_or_1d(y, warn=True)\n",
      "/Users/daiki/miniforge3/envs/tsukuba/lib/python3.8/site-packages/sklearn/neural_network/_multilayer_perceptron.py:1118: DataConversionWarning: A column-vector y was passed when a 1d array was expected. Please change the shape of y to (n_samples, ), for example using ravel().\n",
      "  y = column_or_1d(y, warn=True)\n",
      "/Users/daiki/miniforge3/envs/tsukuba/lib/python3.8/site-packages/imblearn/over_sampling/_smote/base.py:336: FutureWarning: The parameter `n_jobs` has been deprecated in 0.10 and will be removed in 0.12. You can pass an nearest neighbors estimator where `n_jobs` is already set instead.\n",
      "  warnings.warn(\n",
      "/Users/daiki/miniforge3/envs/tsukuba/lib/python3.8/site-packages/sklearn/utils/validation.py:1111: DataConversionWarning: A column-vector y was passed when a 1d array was expected. Please change the shape of y to (n_samples, ), for example using ravel().\n",
      "  y = column_or_1d(y, warn=True)\n",
      "/Users/daiki/miniforge3/envs/tsukuba/lib/python3.8/site-packages/sklearn/neural_network/_multilayer_perceptron.py:1118: DataConversionWarning: A column-vector y was passed when a 1d array was expected. Please change the shape of y to (n_samples, ), for example using ravel().\n",
      "  y = column_or_1d(y, warn=True)\n",
      "/Users/daiki/miniforge3/envs/tsukuba/lib/python3.8/site-packages/imblearn/over_sampling/_smote/base.py:336: FutureWarning: The parameter `n_jobs` has been deprecated in 0.10 and will be removed in 0.12. You can pass an nearest neighbors estimator where `n_jobs` is already set instead.\n",
      "  warnings.warn(\n",
      "/Users/daiki/miniforge3/envs/tsukuba/lib/python3.8/site-packages/sklearn/utils/validation.py:1111: DataConversionWarning: A column-vector y was passed when a 1d array was expected. Please change the shape of y to (n_samples, ), for example using ravel().\n",
      "  y = column_or_1d(y, warn=True)\n",
      "/Users/daiki/miniforge3/envs/tsukuba/lib/python3.8/site-packages/sklearn/neural_network/_multilayer_perceptron.py:1118: DataConversionWarning: A column-vector y was passed when a 1d array was expected. Please change the shape of y to (n_samples, ), for example using ravel().\n",
      "  y = column_or_1d(y, warn=True)\n",
      "/Users/daiki/miniforge3/envs/tsukuba/lib/python3.8/site-packages/imblearn/over_sampling/_smote/base.py:336: FutureWarning: The parameter `n_jobs` has been deprecated in 0.10 and will be removed in 0.12. You can pass an nearest neighbors estimator where `n_jobs` is already set instead.\n",
      "  warnings.warn(\n",
      "/Users/daiki/miniforge3/envs/tsukuba/lib/python3.8/site-packages/sklearn/utils/validation.py:1111: DataConversionWarning: A column-vector y was passed when a 1d array was expected. Please change the shape of y to (n_samples, ), for example using ravel().\n",
      "  y = column_or_1d(y, warn=True)\n",
      "/Users/daiki/miniforge3/envs/tsukuba/lib/python3.8/site-packages/sklearn/neural_network/_multilayer_perceptron.py:1118: DataConversionWarning: A column-vector y was passed when a 1d array was expected. Please change the shape of y to (n_samples, ), for example using ravel().\n",
      "  y = column_or_1d(y, warn=True)\n",
      "/Users/daiki/miniforge3/envs/tsukuba/lib/python3.8/site-packages/imblearn/over_sampling/_smote/base.py:336: FutureWarning: The parameter `n_jobs` has been deprecated in 0.10 and will be removed in 0.12. You can pass an nearest neighbors estimator where `n_jobs` is already set instead.\n",
      "  warnings.warn(\n",
      "/Users/daiki/miniforge3/envs/tsukuba/lib/python3.8/site-packages/sklearn/utils/validation.py:1111: DataConversionWarning: A column-vector y was passed when a 1d array was expected. Please change the shape of y to (n_samples, ), for example using ravel().\n",
      "  y = column_or_1d(y, warn=True)\n",
      "/Users/daiki/miniforge3/envs/tsukuba/lib/python3.8/site-packages/sklearn/neural_network/_multilayer_perceptron.py:1118: DataConversionWarning: A column-vector y was passed when a 1d array was expected. Please change the shape of y to (n_samples, ), for example using ravel().\n",
      "  y = column_or_1d(y, warn=True)\n",
      "/Users/daiki/miniforge3/envs/tsukuba/lib/python3.8/site-packages/imblearn/over_sampling/_smote/base.py:336: FutureWarning: The parameter `n_jobs` has been deprecated in 0.10 and will be removed in 0.12. You can pass an nearest neighbors estimator where `n_jobs` is already set instead.\n",
      "  warnings.warn(\n",
      "/Users/daiki/miniforge3/envs/tsukuba/lib/python3.8/site-packages/sklearn/utils/validation.py:1111: DataConversionWarning: A column-vector y was passed when a 1d array was expected. Please change the shape of y to (n_samples, ), for example using ravel().\n",
      "  y = column_or_1d(y, warn=True)\n",
      "/Users/daiki/miniforge3/envs/tsukuba/lib/python3.8/site-packages/sklearn/neural_network/_multilayer_perceptron.py:1118: DataConversionWarning: A column-vector y was passed when a 1d array was expected. Please change the shape of y to (n_samples, ), for example using ravel().\n",
      "  y = column_or_1d(y, warn=True)\n",
      "/Users/daiki/miniforge3/envs/tsukuba/lib/python3.8/site-packages/imblearn/over_sampling/_smote/base.py:336: FutureWarning: The parameter `n_jobs` has been deprecated in 0.10 and will be removed in 0.12. You can pass an nearest neighbors estimator where `n_jobs` is already set instead.\n",
      "  warnings.warn(\n",
      "/Users/daiki/miniforge3/envs/tsukuba/lib/python3.8/site-packages/sklearn/utils/validation.py:1111: DataConversionWarning: A column-vector y was passed when a 1d array was expected. Please change the shape of y to (n_samples, ), for example using ravel().\n",
      "  y = column_or_1d(y, warn=True)\n",
      "/Users/daiki/miniforge3/envs/tsukuba/lib/python3.8/site-packages/sklearn/neural_network/_multilayer_perceptron.py:1118: DataConversionWarning: A column-vector y was passed when a 1d array was expected. Please change the shape of y to (n_samples, ), for example using ravel().\n",
      "  y = column_or_1d(y, warn=True)\n",
      "/Users/daiki/miniforge3/envs/tsukuba/lib/python3.8/site-packages/imblearn/over_sampling/_smote/base.py:336: FutureWarning: The parameter `n_jobs` has been deprecated in 0.10 and will be removed in 0.12. You can pass an nearest neighbors estimator where `n_jobs` is already set instead.\n",
      "  warnings.warn(\n",
      "/Users/daiki/miniforge3/envs/tsukuba/lib/python3.8/site-packages/sklearn/utils/validation.py:1111: DataConversionWarning: A column-vector y was passed when a 1d array was expected. Please change the shape of y to (n_samples, ), for example using ravel().\n",
      "  y = column_or_1d(y, warn=True)\n",
      "/Users/daiki/miniforge3/envs/tsukuba/lib/python3.8/site-packages/sklearn/neural_network/_multilayer_perceptron.py:1118: DataConversionWarning: A column-vector y was passed when a 1d array was expected. Please change the shape of y to (n_samples, ), for example using ravel().\n",
      "  y = column_or_1d(y, warn=True)\n",
      "/Users/daiki/miniforge3/envs/tsukuba/lib/python3.8/site-packages/imblearn/over_sampling/_smote/base.py:336: FutureWarning: The parameter `n_jobs` has been deprecated in 0.10 and will be removed in 0.12. You can pass an nearest neighbors estimator where `n_jobs` is already set instead.\n",
      "  warnings.warn(\n",
      "/Users/daiki/miniforge3/envs/tsukuba/lib/python3.8/site-packages/sklearn/utils/validation.py:1111: DataConversionWarning: A column-vector y was passed when a 1d array was expected. Please change the shape of y to (n_samples, ), for example using ravel().\n",
      "  y = column_or_1d(y, warn=True)\n",
      "/Users/daiki/miniforge3/envs/tsukuba/lib/python3.8/site-packages/sklearn/neural_network/_multilayer_perceptron.py:1118: DataConversionWarning: A column-vector y was passed when a 1d array was expected. Please change the shape of y to (n_samples, ), for example using ravel().\n",
      "  y = column_or_1d(y, warn=True)\n",
      "/Users/daiki/miniforge3/envs/tsukuba/lib/python3.8/site-packages/imblearn/over_sampling/_smote/base.py:336: FutureWarning: The parameter `n_jobs` has been deprecated in 0.10 and will be removed in 0.12. You can pass an nearest neighbors estimator where `n_jobs` is already set instead.\n",
      "  warnings.warn(\n",
      "/Users/daiki/miniforge3/envs/tsukuba/lib/python3.8/site-packages/sklearn/utils/validation.py:1111: DataConversionWarning: A column-vector y was passed when a 1d array was expected. Please change the shape of y to (n_samples, ), for example using ravel().\n",
      "  y = column_or_1d(y, warn=True)\n",
      "/Users/daiki/miniforge3/envs/tsukuba/lib/python3.8/site-packages/sklearn/neural_network/_multilayer_perceptron.py:1118: DataConversionWarning: A column-vector y was passed when a 1d array was expected. Please change the shape of y to (n_samples, ), for example using ravel().\n",
      "  y = column_or_1d(y, warn=True)\n",
      "/Users/daiki/miniforge3/envs/tsukuba/lib/python3.8/site-packages/imblearn/over_sampling/_smote/base.py:336: FutureWarning: The parameter `n_jobs` has been deprecated in 0.10 and will be removed in 0.12. You can pass an nearest neighbors estimator where `n_jobs` is already set instead.\n",
      "  warnings.warn(\n",
      "/Users/daiki/miniforge3/envs/tsukuba/lib/python3.8/site-packages/sklearn/utils/validation.py:1111: DataConversionWarning: A column-vector y was passed when a 1d array was expected. Please change the shape of y to (n_samples, ), for example using ravel().\n",
      "  y = column_or_1d(y, warn=True)\n",
      "/Users/daiki/miniforge3/envs/tsukuba/lib/python3.8/site-packages/sklearn/neural_network/_multilayer_perceptron.py:1118: DataConversionWarning: A column-vector y was passed when a 1d array was expected. Please change the shape of y to (n_samples, ), for example using ravel().\n",
      "  y = column_or_1d(y, warn=True)\n",
      "/Users/daiki/miniforge3/envs/tsukuba/lib/python3.8/site-packages/imblearn/over_sampling/_smote/base.py:336: FutureWarning: The parameter `n_jobs` has been deprecated in 0.10 and will be removed in 0.12. You can pass an nearest neighbors estimator where `n_jobs` is already set instead.\n",
      "  warnings.warn(\n",
      "/Users/daiki/miniforge3/envs/tsukuba/lib/python3.8/site-packages/sklearn/utils/validation.py:1111: DataConversionWarning: A column-vector y was passed when a 1d array was expected. Please change the shape of y to (n_samples, ), for example using ravel().\n",
      "  y = column_or_1d(y, warn=True)\n",
      "/Users/daiki/miniforge3/envs/tsukuba/lib/python3.8/site-packages/sklearn/neural_network/_multilayer_perceptron.py:1118: DataConversionWarning: A column-vector y was passed when a 1d array was expected. Please change the shape of y to (n_samples, ), for example using ravel().\n",
      "  y = column_or_1d(y, warn=True)\n",
      "/Users/daiki/miniforge3/envs/tsukuba/lib/python3.8/site-packages/imblearn/over_sampling/_smote/base.py:336: FutureWarning: The parameter `n_jobs` has been deprecated in 0.10 and will be removed in 0.12. You can pass an nearest neighbors estimator where `n_jobs` is already set instead.\n",
      "  warnings.warn(\n",
      "/Users/daiki/miniforge3/envs/tsukuba/lib/python3.8/site-packages/sklearn/utils/validation.py:1111: DataConversionWarning: A column-vector y was passed when a 1d array was expected. Please change the shape of y to (n_samples, ), for example using ravel().\n",
      "  y = column_or_1d(y, warn=True)\n",
      "/Users/daiki/miniforge3/envs/tsukuba/lib/python3.8/site-packages/sklearn/neural_network/_multilayer_perceptron.py:1118: DataConversionWarning: A column-vector y was passed when a 1d array was expected. Please change the shape of y to (n_samples, ), for example using ravel().\n",
      "  y = column_or_1d(y, warn=True)\n",
      "/Users/daiki/miniforge3/envs/tsukuba/lib/python3.8/site-packages/imblearn/over_sampling/_smote/base.py:336: FutureWarning: The parameter `n_jobs` has been deprecated in 0.10 and will be removed in 0.12. You can pass an nearest neighbors estimator where `n_jobs` is already set instead.\n",
      "  warnings.warn(\n",
      "/Users/daiki/miniforge3/envs/tsukuba/lib/python3.8/site-packages/sklearn/utils/validation.py:1111: DataConversionWarning: A column-vector y was passed when a 1d array was expected. Please change the shape of y to (n_samples, ), for example using ravel().\n",
      "  y = column_or_1d(y, warn=True)\n",
      "/Users/daiki/miniforge3/envs/tsukuba/lib/python3.8/site-packages/sklearn/neural_network/_multilayer_perceptron.py:1118: DataConversionWarning: A column-vector y was passed when a 1d array was expected. Please change the shape of y to (n_samples, ), for example using ravel().\n",
      "  y = column_or_1d(y, warn=True)\n"
     ]
    },
    {
     "name": "stdout",
     "output_type": "stream",
     "text": [
      "CPU times: user 1min 55s, sys: 47.8 s, total: 2min 43s\n",
      "Wall time: 2min 16s\n"
     ]
    }
   ],
   "source": [
    "%%time\n",
    "acc_conv, f1_conv = calc_metrics(feature_df=feature_conv,target_df=target_df, THRESH_RANGE=range(10,26))\n",
    "acc_new, f1_new = calc_metrics(feature_df=feature_new,target_df=target_df, THRESH_RANGE=range(10,26))"
   ]
  },
  {
   "cell_type": "code",
   "execution_count": 6,
   "id": "4cc18f3c-538c-4cc0-93a0-7bec87251cf1",
   "metadata": {},
   "outputs": [
    {
     "data": {
      "image/png": "[encoded data removed]",
      "text/plain": [
       "<Figure size 640x480 with 1 Axes>"
      ]
     },
     "metadata": {},
     "output_type": "display_data"
    },
    {
     "data": {
      "text/plain": [
       "<matplotlib.collections.PathCollection at 0x28457e100>"
      ]
     },
     "execution_count": 6,
     "metadata": {},
     "output_type": "execute_result"
    },
    {
     "data": {
      "image/png": "[encoded data removed]",
      "text/plain": [
       "<Figure size 640x480 with 1 Axes>"
      ]
     },
     "metadata": {},
     "output_type": "display_data"
    }
   ],
   "source": [
    "plt.scatter(range(10,26),acc_conv,color='k')\n",
    "plt.plot(range(10,26),acc_new,color='r',linestyle='dashed')\n",
    "plt.scatter(range(10,26),acc_new,color='r',linestyle='dashed',s=80)\n",
    "plt.show()\n",
    "plt.scatter(range(10,26),f1_conv,color='k')\n",
    "plt.scatter(range(10,26),f1_new,color='r')"
   ]
  },
  {
   "cell_type": "markdown",
   "id": "35f5e987-7f44-4893-8b1f-b0828cd1fbac",
   "metadata": {},
   "source": [
    "## 従来法での分類モデルの構築"
   ]
  },
  {
   "cell_type": "code",
   "execution_count": 331,
   "id": "100d2137-5350-49a7-8443-44821a623fa4",
   "metadata": {},
   "outputs": [
    {
     "name": "stdout",
     "output_type": "stream",
     "text": [
      "Best Parameter of PLS\n",
      "{'n_components': 11}\n",
      "\n",
      "Best Parameter of SVM\n",
      "{'degree': 2, 'kernel': 'poly'}\n",
      "\n",
      "Best Parameter of ANN\n",
      "{'activation': 'relu', 'alpha': 0.001, 'batch_size': 25, 'hidden_layer_sizes': (15,), 'solver': 'adam'}\n",
      "\n"
     ]
    }
   ],
   "source": [
    "##### 標準化\n",
    "X_train_scale, X_test_scale, y_train, y_test = scale(feature_df=feature_conv, target_df=target_df)\n",
    "\n",
    "\n",
    "##### 変数選択\n",
    "X_train_scale, X_test_scale = select_feature(X_train_scale=X_train_scale, X_test_scale=X_test_scale, y_train=y_train)\n",
    "\n",
    "\n",
    "##### 目的変数のバイナリー化\n",
    "y_train = divide_mealiness(y_train,THRESH=MEALINESS).astype('int')\n",
    "y_test = divide_mealiness(y_test,THRESH=MEALINESS).astype('int')\n",
    "\n",
    "##### 目的変数のオーバーサンプリング\n",
    "smote = SMOTE(sampling_strategy='minority', random_state=SEED,k_neighbors=N,n_jobs=-1)\n",
    "X_train_scale, y_train = smote.fit_resample(X_train_scale, y_train)\n",
    "y_train.astype('int')\n",
    "\n",
    "\n",
    "##### ハイパーパラメータの最適化\n",
    "param_pls = {'n_components':[i for i in range(1,100)]}\n",
    "param_svm = {\n",
    "    # 'C':[i/10 for i in range(1,201)],\n",
    "    # 'kernel':['rbf'],\n",
    "    # 'gamma':[1e-1,1e-2,5e-2,1e-3,5e-3,1e-4,5e-4,1e-5,5e-5],\n",
    "    'kernel':['poly'],\n",
    "    'degree':[i for i in range(1,13)]\n",
    "}\n",
    "param_ann = {'hidden_layer_sizes':[(55,),(15,),(6,)],#(88,),(44,), \n",
    "             'activation':['relu'],\n",
    "             'solver':['adam'],\n",
    "             'alpha':[1000,100,10,1,1e-2,1e-3,1e-4],\n",
    "             'batch_size':[25,50,75,100]\n",
    "            }\n",
    "\n",
    "results_pls, results_svm, results_ann = optimize_hyperparameter(\n",
    "    param_pls = param_pls, \n",
    "    param_svm = param_svm,\n",
    "    param_ann = param_ann,\n",
    "    X_train_scale = X_train_scale,\n",
    "    y_train = y_train\n",
    ")\n",
    "\n",
    "# 各モデルの最適パラメータの表示\n",
    "print('Best Parameter of PLS')\n",
    "print(results_pls.best_params_)\n",
    "print()\n",
    "print('Best Parameter of SVM')\n",
    "print(results_svm.best_params_)\n",
    "print()\n",
    "print('Best Parameter of ANN')\n",
    "print(results_ann.best_params_)\n",
    "print()"
   ]
  },
  {
   "cell_type": "code",
   "execution_count": 332,
   "id": "d64f31e3-b4a2-49e9-a5ee-7f6b32415e88",
   "metadata": {},
   "outputs": [
    {
     "name": "stdout",
     "output_type": "stream",
     "text": [
      "CPU times: user 458 ms, sys: 274 ms, total: 732 ms\n",
      "Wall time: 182 ms\n"
     ]
    }
   ],
   "source": [
    "%%time\n",
    "\n",
    "##### 最適なハイパーパラメータでモデル構築\n",
    "\n",
    "# PLS\n",
    "pls = PLSRegression(n_components=results_pls.best_params_['n_components'])\n",
    "model_PLS = pls.fit(X_train_scale,y_train)\n",
    "\n",
    "# SVM\n",
    "svm = SVC(\n",
    "#     kernel='rbf',\n",
    "#     C=results_svm.best_params_['C'], \n",
    "    # gamma=results_svm.best_params_['gamma'],\n",
    "    kernel='poly',\n",
    "    degree=results_svm.best_params_['degree'],\n",
    ")\n",
    "model_SVM = svm.fit(X_train_scale, y_train)\n",
    "\n",
    "# ANN\n",
    "ann = MLPClassifier(hidden_layer_sizes=results_ann.best_params_['hidden_layer_sizes'],\n",
    "                   activation=results_ann.best_params_['activation'],\n",
    "                   solver=results_ann.best_params_['solver'],\n",
    "                   alpha=results_ann.best_params_['alpha'],\n",
    "                   batch_size=results_ann.best_params_['batch_size'],\n",
    "                   random_state=SEED\n",
    "                  )\n",
    "\n",
    "model_ANN = ann.fit(X_train_scale, y_train)"
   ]
  },
  {
   "cell_type": "code",
   "execution_count": 333,
   "id": "743fd5e1-975a-4a36-9ae6-d6619b9efa01",
   "metadata": {},
   "outputs": [],
   "source": [
    "##### モデルの予測 #####\n",
    "\n",
    "# trainの予測\n",
    "y_pred_train_ANN = model_ANN.predict(X_train_scale).flatten()\n",
    "y_pred_train_SVM = model_SVM.predict(X_train_scale).flatten()\n",
    "y_pred_train_PLS = (model_PLS.predict(X_train_scale).flatten() > 0.5).astype('uint8')\n",
    "\n",
    "# testの予測\n",
    "y_pred_SVM = model_SVM.predict(X_test_scale).flatten()\n",
    "y_pred_ANN = model_ANN.predict(X_test_scale).flatten()\n",
    "y_pred_PLS = (model_PLS.predict(X_test_scale).flatten() > 0.5).astype('uint8')\n",
    "\n",
    "\n",
    "tmp_conv = pd.DataFrame(\n",
    "    [\n",
    "        [\n",
    "    accuracy_score(y_train,y_pred_train_PLS),\n",
    "    accuracy_score(y_test,y_pred_PLS),\n",
    "    accuracy_score(y_train,y_pred_train_SVM),\n",
    "    accuracy_score(y_test,y_pred_SVM),\n",
    "    accuracy_score(y_train,y_pred_train_ANN),\n",
    "    accuracy_score(y_test,y_pred_ANN),\n",
    "        ],\n",
    "        \n",
    "        [\n",
    "    f1_score(y_train,y_pred_train_PLS),\n",
    "    f1_score(y_test,y_pred_PLS),\n",
    "    f1_score(y_train,y_pred_train_SVM),\n",
    "    f1_score(y_test,y_pred_SVM),\n",
    "    f1_score(y_train,y_pred_train_ANN),\n",
    "    f1_score(y_test,y_pred_ANN),\n",
    "        ]\n",
    "    ]\n",
    ")\n",
    "\n",
    "tmp_conv.index = ['Accuracy','F1 score']\n",
    "tmp_conv.columns = ['PLS_train','PLS_test','SVM_train','SVM_test','ANN_train','ANN_test']\n",
    "\n",
    "tmp = pd.DataFrame(confusion_matrix(y_test,y_pred_ANN))\n",
    "tmp.columns=['予測された非粉質化','予測された粉質化']\n",
    "tmp.index=['実際は非粉質化','実際は粉質化']\n",
    "# tmp\n"
   ]
  },
  {
   "cell_type": "markdown",
   "id": "240597ae-e313-4a7d-a801-b8f7b5240a54",
   "metadata": {},
   "source": [
    "## レーザー散乱法での分類モデルの構築"
   ]
  },
  {
   "cell_type": "code",
   "execution_count": 334,
   "id": "66a0a054-26a7-41b4-afe2-c8540cd80944",
   "metadata": {},
   "outputs": [
    {
     "name": "stdout",
     "output_type": "stream",
     "text": [
      "Best Parameter of PLS\n",
      "{'n_components': 6}\n",
      "\n",
      "Best Parameter of SVM\n",
      "{'degree': 1, 'kernel': 'poly'}\n",
      "\n",
      "Best Parameter of ANN\n",
      "{'activation': 'relu', 'alpha': 0.01, 'batch_size': 25, 'hidden_layer_sizes': (55,), 'solver': 'adam'}\n",
      "\n"
     ]
    }
   ],
   "source": [
    "##### 標準化\n",
    "X_train_scale, X_test_scale, y_train, y_test = scale(feature_df=feature_new, target_df=target_df)\n",
    "\n",
    "\n",
    "##### 変数選択\n",
    "X_train_scale, X_test_scale = select_feature(X_train_scale=X_train_scale, X_test_scale=X_test_scale, y_train=y_train)\n",
    "\n",
    "\n",
    "##### 目的変数のバイナリー化\n",
    "y_train = divide_mealiness(y_train,THRESH=MEALINESS).astype('int')\n",
    "y_test = divide_mealiness(y_test,THRESH=MEALINESS).astype('int')\n",
    "\n",
    "##### 目的変数のオーバーサンプリング\n",
    "smote = SMOTE(sampling_strategy='minority', random_state=SEED,k_neighbors=N,n_jobs=-1)\n",
    "X_train_scale, y_train = smote.fit_resample(X_train_scale, y_train)\n",
    "y_train.astype('int')\n",
    "\n",
    "##### ハイパーパラメータの最適化\n",
    "param_pls = {'n_components':[i for i in range(1,100)]}\n",
    "param_svm = {\n",
    "    # 'C':[i/10 for i in range(1,501)],\n",
    "    # 'kernel':['rbf'],\n",
    "    # 'gamma':[1e-1,1e-2,5e-2,1e-3,5e-3,1e-4,5e-4,1e-5,5e-5],\n",
    "    \n",
    "    'kernel':['poly'],\n",
    "    'degree':[i for i in range(1,13)]\n",
    "}\n",
    "param_ann = {'hidden_layer_sizes':[(55,),(15,),(6,)],#, \n",
    "             'activation':['relu'],\n",
    "             'solver':['adam'],\n",
    "             'alpha':[1000,100,10,1,1e-2,1e-3,1e-4],\n",
    "             'batch_size':[25,50,75,100]\n",
    "            }\n",
    "\n",
    "results_pls, results_svm, results_ann = optimize_hyperparameter(\n",
    "    param_pls = param_pls, \n",
    "    param_svm = param_svm,\n",
    "    param_ann = param_ann,\n",
    "    X_train_scale = X_train_scale,\n",
    "    y_train = y_train\n",
    ")\n",
    "\n",
    "# 各モデルの最適パラメータの表示\n",
    "print('Best Parameter of PLS')\n",
    "print(results_pls.best_params_)\n",
    "print()\n",
    "print('Best Parameter of SVM')\n",
    "print(results_svm.best_params_)\n",
    "print()\n",
    "print('Best Parameter of ANN')\n",
    "print(results_ann.best_params_)\n",
    "print()"
   ]
  },
  {
   "cell_type": "code",
   "execution_count": 335,
   "id": "0e785a0d-d164-4da2-b4dc-44374b015a10",
   "metadata": {},
   "outputs": [
    {
     "name": "stdout",
     "output_type": "stream",
     "text": [
      "CPU times: user 950 ms, sys: 567 ms, total: 1.52 s\n",
      "Wall time: 407 ms\n"
     ]
    }
   ],
   "source": [
    "%%time\n",
    "\n",
    "##### 最適なハイパーパラメータでモデル構築\n",
    "\n",
    "# PLS\n",
    "pls = PLSRegression(n_components=results_pls.best_params_['n_components'])\n",
    "model_PLS = pls.fit(X_train_scale,y_train)\n",
    "\n",
    "# SVM\n",
    "svm = SVC(\n",
    "    # kernel='rbf',\n",
    "    # C=results_svm.best_params_['C'], \n",
    "    # gamma=results_svm.best_params_['gamma'],\n",
    "    \n",
    "    kernel='poly',\n",
    "    degree=results_svm.best_params_['degree'],\n",
    "    \n",
    ")\n",
    "model_SVM = svm.fit(X_train_scale, y_train)\n",
    "\n",
    "# ANN\n",
    "ann = MLPClassifier(hidden_layer_sizes=results_ann.best_params_['hidden_layer_sizes'],\n",
    "                   activation=results_ann.best_params_['activation'],\n",
    "                   solver=results_ann.best_params_['solver'],\n",
    "                   alpha=results_ann.best_params_['alpha'],\n",
    "                   batch_size=results_ann.best_params_['batch_size'],\n",
    "                   random_state=SEED\n",
    "                  )\n",
    "\n",
    "model_ANN = ann.fit(X_train_scale, y_train)"
   ]
  },
  {
   "cell_type": "code",
   "execution_count": 336,
   "id": "919652f6-56e1-4f1f-b9b0-0a2d51c53013",
   "metadata": {},
   "outputs": [],
   "source": [
    "##### モデルの予測 #####\n",
    "\n",
    "# trainの予測\n",
    "y_pred_train_ANN = model_ANN.predict(X_train_scale).flatten()\n",
    "y_pred_train_SVM = model_SVM.predict(X_train_scale).flatten()\n",
    "y_pred_train_PLS = (model_PLS.predict(X_train_scale).flatten() > 0.5).astype('int')\n",
    "y_pred_train_en = pd.DataFrame([y_pred_train_PLS,y_pred_train_SVM,y_pred_train_ANN]).mode().values.flatten()\n",
    "\n",
    "# testの予測\n",
    "y_pred_SVM = model_SVM.predict(X_test_scale).flatten()\n",
    "y_pred_ANN = model_ANN.predict(X_test_scale).flatten()\n",
    "y_pred_PLS = (model_PLS.predict(X_test_scale).flatten() > 0.5).astype('int')\n",
    "y_pred_en = pd.DataFrame([y_pred_PLS,y_pred_SVM,y_pred_ANN]).mode().values.flatten()\n",
    "\n",
    "\n",
    "tmp_new = pd.DataFrame(\n",
    "    [\n",
    "        [\n",
    "    accuracy_score(y_train,y_pred_train_PLS),\n",
    "    accuracy_score(y_test,y_pred_PLS),\n",
    "    accuracy_score(y_train,y_pred_train_SVM),\n",
    "    accuracy_score(y_test,y_pred_SVM),\n",
    "    accuracy_score(y_train,y_pred_train_ANN),\n",
    "    accuracy_score(y_test,y_pred_ANN),\n",
    "    # accuracy_score(y_train,y_pred_train_en),\n",
    "    # accuracy_score(y_test,y_pred_en),\n",
    "        ],\n",
    "        \n",
    "        [\n",
    "    f1_score(y_train,y_pred_train_PLS),\n",
    "    f1_score(y_test,y_pred_PLS),\n",
    "    f1_score(y_train,y_pred_train_SVM),\n",
    "    f1_score(y_test,y_pred_SVM),\n",
    "    f1_score(y_train,y_pred_train_ANN),\n",
    "    f1_score(y_test,y_pred_ANN),\n",
    "    # f1_score(y_train,y_pred_train_en),\n",
    "    # f1_score(y_test,y_pred_en),\n",
    "        ]\n",
    "    ]\n",
    ")\n",
    "\n",
    "tmp_new.index = ['Accuracy','F1 score']\n",
    "tmp_new.columns = ['PLS_train','PLS_test','SVM_train','SVM_test','ANN_train','ANN_test',\n",
    "                   # 'Ensem_train','Ensem_test'\n",
    "                  ]\n",
    "# tmp_new\n",
    "\n"
   ]
  },
  {
   "cell_type": "code",
   "execution_count": 337,
   "id": "1b6cdd89-947c-4ea9-acdb-2cfde9506393",
   "metadata": {},
   "outputs": [
    {
     "data": {
      "text/html": [
       "<div>\n",
       "<style scoped>\n",
       "    .dataframe tbody tr th:only-of-type {\n",
       "        vertical-align: middle;\n",
       "    }\n",
       "\n",
       "    .dataframe tbody tr th {\n",
       "        vertical-align: top;\n",
       "    }\n",
       "\n",
       "    .dataframe thead th {\n",
       "        text-align: right;\n",
       "    }\n",
       "</style>\n",
       "<table border=\"1\" class=\"dataframe\">\n",
       "  <thead>\n",
       "    <tr style=\"text-align: right;\">\n",
       "      <th></th>\n",
       "      <th>PLS_train</th>\n",
       "      <th>PLS_test</th>\n",
       "      <th>SVM_train</th>\n",
       "      <th>SVM_test</th>\n",
       "      <th>ANN_train</th>\n",
       "      <th>ANN_test</th>\n",
       "    </tr>\n",
       "  </thead>\n",
       "  <tbody>\n",
       "    <tr>\n",
       "      <th>Accuracy</th>\n",
       "      <td>0.909774</td>\n",
       "      <td>0.57500</td>\n",
       "      <td>0.909774</td>\n",
       "      <td>0.725000</td>\n",
       "      <td>1.0</td>\n",
       "      <td>0.775000</td>\n",
       "    </tr>\n",
       "    <tr>\n",
       "      <th>F1 score</th>\n",
       "      <td>0.914286</td>\n",
       "      <td>0.26087</td>\n",
       "      <td>0.915493</td>\n",
       "      <td>0.421053</td>\n",
       "      <td>1.0</td>\n",
       "      <td>0.470588</td>\n",
       "    </tr>\n",
       "  </tbody>\n",
       "</table>\n",
       "</div>"
      ],
      "text/plain": [
       "          PLS_train  PLS_test  SVM_train  SVM_test  ANN_train  ANN_test\n",
       "Accuracy   0.909774   0.57500   0.909774  0.725000        1.0  0.775000\n",
       "F1 score   0.914286   0.26087   0.915493  0.421053        1.0  0.470588"
      ]
     },
     "execution_count": 337,
     "metadata": {},
     "output_type": "execute_result"
    }
   ],
   "source": [
    "tmp_conv"
   ]
  },
  {
   "cell_type": "code",
   "execution_count": 338,
   "id": "cc98e66d-f57b-41b9-8e09-36cd20931200",
   "metadata": {},
   "outputs": [
    {
     "data": {
      "text/html": [
       "<div>\n",
       "<style scoped>\n",
       "    .dataframe tbody tr th:only-of-type {\n",
       "        vertical-align: middle;\n",
       "    }\n",
       "\n",
       "    .dataframe tbody tr th {\n",
       "        vertical-align: top;\n",
       "    }\n",
       "\n",
       "    .dataframe thead th {\n",
       "        text-align: right;\n",
       "    }\n",
       "</style>\n",
       "<table border=\"1\" class=\"dataframe\">\n",
       "  <thead>\n",
       "    <tr style=\"text-align: right;\">\n",
       "      <th></th>\n",
       "      <th>PLS_train</th>\n",
       "      <th>PLS_test</th>\n",
       "      <th>SVM_train</th>\n",
       "      <th>SVM_test</th>\n",
       "      <th>ANN_train</th>\n",
       "      <th>ANN_test</th>\n",
       "    </tr>\n",
       "  </thead>\n",
       "  <tbody>\n",
       "    <tr>\n",
       "      <th>Accuracy</th>\n",
       "      <td>0.913534</td>\n",
       "      <td>0.775</td>\n",
       "      <td>0.894737</td>\n",
       "      <td>0.875000</td>\n",
       "      <td>1.0</td>\n",
       "      <td>0.775000</td>\n",
       "    </tr>\n",
       "    <tr>\n",
       "      <th>F1 score</th>\n",
       "      <td>0.917563</td>\n",
       "      <td>0.640</td>\n",
       "      <td>0.898551</td>\n",
       "      <td>0.782609</td>\n",
       "      <td>1.0</td>\n",
       "      <td>0.526316</td>\n",
       "    </tr>\n",
       "  </tbody>\n",
       "</table>\n",
       "</div>"
      ],
      "text/plain": [
       "          PLS_train  PLS_test  SVM_train  SVM_test  ANN_train  ANN_test\n",
       "Accuracy   0.913534     0.775   0.894737  0.875000        1.0  0.775000\n",
       "F1 score   0.917563     0.640   0.898551  0.782609        1.0  0.526316"
      ]
     },
     "execution_count": 338,
     "metadata": {},
     "output_type": "execute_result"
    }
   ],
   "source": [
    "tmp_new"
   ]
  },
  {
   "cell_type": "code",
   "execution_count": 327,
   "id": "e7426948-b01f-44e0-a773-45a7fa81e1f9",
   "metadata": {},
   "outputs": [
    {
     "data": {
      "text/html": [
       "<div>\n",
       "<style scoped>\n",
       "    .dataframe tbody tr th:only-of-type {\n",
       "        vertical-align: middle;\n",
       "    }\n",
       "\n",
       "    .dataframe tbody tr th {\n",
       "        vertical-align: top;\n",
       "    }\n",
       "\n",
       "    .dataframe thead th {\n",
       "        text-align: right;\n",
       "    }\n",
       "</style>\n",
       "<table border=\"1\" class=\"dataframe\">\n",
       "  <thead>\n",
       "    <tr style=\"text-align: right;\">\n",
       "      <th></th>\n",
       "      <th>予測された非粉質化</th>\n",
       "      <th>予測された粉質化</th>\n",
       "    </tr>\n",
       "  </thead>\n",
       "  <tbody>\n",
       "    <tr>\n",
       "      <th>実際は非粉質化</th>\n",
       "      <td>26</td>\n",
       "      <td>5</td>\n",
       "    </tr>\n",
       "    <tr>\n",
       "      <th>実際は粉質化</th>\n",
       "      <td>0</td>\n",
       "      <td>9</td>\n",
       "    </tr>\n",
       "  </tbody>\n",
       "</table>\n",
       "</div>"
      ],
      "text/plain": [
       "         予測された非粉質化  予測された粉質化\n",
       "実際は非粉質化         26         5\n",
       "実際は粉質化           0         9"
      ]
     },
     "execution_count": 327,
     "metadata": {},
     "output_type": "execute_result"
    }
   ],
   "source": [
    "tmp = pd.DataFrame(confusion_matrix(y_test,y_pred_SVM))\n",
    "tmp.columns=['予測された非粉質化','予測された粉質化']\n",
    "tmp.index=['実際は非粉質化','実際は粉質化']\n",
    "tmp"
   ]
  },
  {
   "cell_type": "code",
   "execution_count": 341,
   "id": "a4158dd2-b594-42bb-b72d-ca9342ca975b",
   "metadata": {},
   "outputs": [
    {
     "data": {
      "text/plain": [
       "1.0"
      ]
     },
     "execution_count": 341,
     "metadata": {},
     "output_type": "execute_result"
    }
   ],
   "source": []
  },
  {
   "cell_type": "code",
   "execution_count": 14,
   "id": "326db174-4883-4398-85aa-ed42ba472d57",
   "metadata": {},
   "outputs": [
    {
     "data": {
      "text/plain": [
       "array([0, 0, 0, 0, 0, 1, 0, 0, 0, 0, 0, 0, 0, 1, 1, 0, 0, 1, 0, 0, 0, 0,\n",
       "       0, 0, 0, 0, 0, 0, 0, 1, 0, 0, 0, 1, 1, 0, 1, 1, 0, 0])"
      ]
     },
     "execution_count": 14,
     "metadata": {},
     "output_type": "execute_result"
    }
   ],
   "source": [
    "y_pred_ANN"
   ]
  },
  {
   "cell_type": "code",
   "execution_count": 15,
   "id": "2f1f6616-6b20-4d08-9c40-d2985cb6a358",
   "metadata": {},
   "outputs": [
    {
     "data": {
      "text/plain": [
       "array([0, 1, 0, 0, 0, 0, 1, 0, 1, 0, 1, 0, 0, 0, 1, 0, 0, 1, 0, 1, 0, 0,\n",
       "       0, 0, 0, 0, 1, 0, 0, 0, 0, 0, 0, 1, 0, 0, 1, 0, 0, 0])"
      ]
     },
     "execution_count": 15,
     "metadata": {},
     "output_type": "execute_result"
    }
   ],
   "source": [
    "y_pred_SVM"
   ]
  },
  {
   "cell_type": "code",
   "execution_count": 16,
   "id": "6ab20525-43fc-45c9-aa47-e8d8989c9843",
   "metadata": {},
   "outputs": [
    {
     "data": {
      "text/plain": [
       "array([0, 1, 0, 0, 0, 0, 0, 1, 1, 0, 1, 0, 0, 1, 1, 1, 0, 1, 0, 1, 0, 0,\n",
       "       0, 0, 0, 0, 0, 0, 0, 0, 1, 0, 0, 1, 1, 0, 1, 1, 1, 1], dtype=uint8)"
      ]
     },
     "execution_count": 16,
     "metadata": {},
     "output_type": "execute_result"
    }
   ],
   "source": [
    "y_pred_PLS"
   ]
  },
  {
   "cell_type": "code",
   "execution_count": 18,
   "id": "08d0cf73-352c-4442-afe3-bf3b560e57c2",
   "metadata": {},
   "outputs": [
    {
     "data": {
      "text/html": [
       "<div>\n",
       "<style scoped>\n",
       "    .dataframe tbody tr th:only-of-type {\n",
       "        vertical-align: middle;\n",
       "    }\n",
       "\n",
       "    .dataframe tbody tr th {\n",
       "        vertical-align: top;\n",
       "    }\n",
       "\n",
       "    .dataframe thead th {\n",
       "        text-align: right;\n",
       "    }\n",
       "</style>\n",
       "<table border=\"1\" class=\"dataframe\">\n",
       "  <thead>\n",
       "    <tr style=\"text-align: right;\">\n",
       "      <th></th>\n",
       "      <th>0</th>\n",
       "      <th>1</th>\n",
       "      <th>2</th>\n",
       "      <th>3</th>\n",
       "      <th>4</th>\n",
       "      <th>5</th>\n",
       "      <th>6</th>\n",
       "      <th>7</th>\n",
       "      <th>8</th>\n",
       "      <th>9</th>\n",
       "      <th>...</th>\n",
       "      <th>30</th>\n",
       "      <th>31</th>\n",
       "      <th>32</th>\n",
       "      <th>33</th>\n",
       "      <th>34</th>\n",
       "      <th>35</th>\n",
       "      <th>36</th>\n",
       "      <th>37</th>\n",
       "      <th>38</th>\n",
       "      <th>39</th>\n",
       "    </tr>\n",
       "  </thead>\n",
       "  <tbody>\n",
       "    <tr>\n",
       "      <th>0</th>\n",
       "      <td>0</td>\n",
       "      <td>1</td>\n",
       "      <td>0</td>\n",
       "      <td>0</td>\n",
       "      <td>0</td>\n",
       "      <td>0</td>\n",
       "      <td>0</td>\n",
       "      <td>0</td>\n",
       "      <td>1</td>\n",
       "      <td>0</td>\n",
       "      <td>...</td>\n",
       "      <td>0</td>\n",
       "      <td>0</td>\n",
       "      <td>0</td>\n",
       "      <td>1</td>\n",
       "      <td>1</td>\n",
       "      <td>0</td>\n",
       "      <td>1</td>\n",
       "      <td>1</td>\n",
       "      <td>0</td>\n",
       "      <td>0</td>\n",
       "    </tr>\n",
       "  </tbody>\n",
       "</table>\n",
       "<p>1 rows × 40 columns</p>\n",
       "</div>"
      ],
      "text/plain": [
       "   0   1   2   3   4   5   6   7   8   9   ...  30  31  32  33  34  35  36  \\\n",
       "0   0   1   0   0   0   0   0   0   1   0  ...   0   0   0   1   1   0   1   \n",
       "\n",
       "   37  38  39  \n",
       "0   1   0   0  \n",
       "\n",
       "[1 rows x 40 columns]"
      ]
     },
     "execution_count": 18,
     "metadata": {},
     "output_type": "execute_result"
    }
   ],
   "source": []
  },
  {
   "cell_type": "code",
   "execution_count": null,
   "id": "7b5ce97c-1484-489f-ac32-af59d6028b00",
   "metadata": {},
   "outputs": [],
   "source": []
  }
 ],
 "metadata": {
  "kernelspec": {
   "display_name": "Python 3 (ipykernel)",
   "language": "python",
   "name": "python3"
  },
  "language_info": {
   "codemirror_mode": {
    "name": "ipython",
    "version": 3
   },
   "file_extension": ".py",
   "mimetype": "text/x-python",
   "name": "python",
   "nbconvert_exporter": "python",
   "pygments_lexer": "ipython3",
   "version": "3.8.13"
  }
 },
 "nbformat": 4,
 "nbformat_minor": 5
}
